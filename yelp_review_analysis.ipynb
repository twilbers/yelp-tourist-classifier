{
 "cells": [
  {
   "cell_type": "code",
   "execution_count": null,
   "metadata": {},
   "outputs": [],
   "source": [
    "import numpy as np\n",
    "import pandas as pd\n",
    "import csv"
   ]
  },
  {
   "cell_type": "markdown",
   "metadata": {},
   "source": [
    "## Cleanup"
   ]
  },
  {
   "cell_type": "code",
   "execution_count": null,
   "metadata": {},
   "outputs": [],
   "source": [
    "yelp_df = pd.read_csv('/home/gavagai/all_reviews.csv')\n",
    "to_drop = yelp_df.query('label != \"remote\" and label != \"local\"').index\n",
    "yelp_df = yelp_df.drop(to_drop)\n",
    "yelp_df.reindex()"
   ]
  },
  {
   "cell_type": "markdown",
   "metadata": {},
   "source": [
    "## Import"
   ]
  },
  {
   "cell_type": "code",
   "execution_count": null,
   "metadata": {},
   "outputs": [],
   "source": [
    "yelp_df = pd.read_csv('/home/gavagai/all_reviews_cleaned.csv')\n",
    "#yelp_df = yelp_df.drop('Unnamed: 0', axis=1)\n",
    "#yelp_df = yelp_df.drop_duplicates()\n",
    "#yelp_df = yelp_df.reset_index(drop=True)"
   ]
  },
  {
   "cell_type": "code",
   "execution_count": 13,
   "metadata": {},
   "outputs": [
    {
     "data": {
      "text/html": [
       "<div>\n",
       "<style scoped>\n",
       "    .dataframe tbody tr th:only-of-type {\n",
       "        vertical-align: middle;\n",
       "    }\n",
       "\n",
       "    .dataframe tbody tr th {\n",
       "        vertical-align: top;\n",
       "    }\n",
       "\n",
       "    .dataframe thead th {\n",
       "        text-align: right;\n",
       "    }\n",
       "</style>\n",
       "<table border=\"1\" class=\"dataframe\">\n",
       "  <thead>\n",
       "    <tr style=\"text-align: right;\">\n",
       "      <th></th>\n",
       "      <th>business_star_rating</th>\n",
       "      <th>business_zip</th>\n",
       "      <th>cool</th>\n",
       "      <th>funny</th>\n",
       "      <th>review_raiting</th>\n",
       "      <th>useful</th>\n",
       "    </tr>\n",
       "    <tr>\n",
       "      <th>label</th>\n",
       "      <th></th>\n",
       "      <th></th>\n",
       "      <th></th>\n",
       "      <th></th>\n",
       "      <th></th>\n",
       "      <th></th>\n",
       "    </tr>\n",
       "  </thead>\n",
       "  <tbody>\n",
       "    <tr>\n",
       "      <th>local</th>\n",
       "      <td>3.856649</td>\n",
       "      <td>58714.462936</td>\n",
       "      <td>3.432714</td>\n",
       "      <td>2.656943</td>\n",
       "      <td>3.880876</td>\n",
       "      <td>3.578655</td>\n",
       "    </tr>\n",
       "    <tr>\n",
       "      <th>remote</th>\n",
       "      <td>3.804895</td>\n",
       "      <td>50765.636406</td>\n",
       "      <td>3.777087</td>\n",
       "      <td>3.156139</td>\n",
       "      <td>3.963844</td>\n",
       "      <td>3.651013</td>\n",
       "    </tr>\n",
       "  </tbody>\n",
       "</table>\n",
       "</div>"
      ],
      "text/plain": [
       "        business_star_rating  business_zip      cool     funny  \\\n",
       "label                                                            \n",
       "local               3.856649  58714.462936  3.432714  2.656943   \n",
       "remote              3.804895  50765.636406  3.777087  3.156139   \n",
       "\n",
       "        review_raiting    useful  \n",
       "label                             \n",
       "local         3.880876  3.578655  \n",
       "remote        3.963844  3.651013  "
      ]
     },
     "execution_count": 13,
     "metadata": {},
     "output_type": "execute_result"
    }
   ],
   "source": [
    "yelp_df.groupby('label').agg('mean')"
   ]
  },
  {
   "cell_type": "markdown",
   "metadata": {},
   "source": [
    "### Business data frame"
   ]
  },
  {
   "cell_type": "code",
   "execution_count": 5,
   "metadata": {
    "scrolled": false
   },
   "outputs": [],
   "source": [
    "biz_df = yelp_df.iloc[:,0:6].drop_duplicates().astype('object')\n",
    "biz_df[['business_star_rating']] = biz_df[['business_star_rating']].apply(pd.to_numeric)"
   ]
  },
  {
   "cell_type": "code",
   "execution_count": 6,
   "metadata": {
    "scrolled": false
   },
   "outputs": [
    {
     "data": {
      "text/html": [
       "<div>\n",
       "<style scoped>\n",
       "    .dataframe tbody tr th:only-of-type {\n",
       "        vertical-align: middle;\n",
       "    }\n",
       "\n",
       "    .dataframe tbody tr th {\n",
       "        vertical-align: top;\n",
       "    }\n",
       "\n",
       "    .dataframe thead th {\n",
       "        text-align: right;\n",
       "    }\n",
       "</style>\n",
       "<table border=\"1\" class=\"dataframe\">\n",
       "  <thead>\n",
       "    <tr style=\"text-align: right;\">\n",
       "      <th></th>\n",
       "      <th>business_city</th>\n",
       "      <th>business_name</th>\n",
       "      <th>business_state</th>\n",
       "      <th>business_url</th>\n",
       "      <th>business_zip</th>\n",
       "    </tr>\n",
       "  </thead>\n",
       "  <tbody>\n",
       "    <tr>\n",
       "      <th>count</th>\n",
       "      <td>4280</td>\n",
       "      <td>4280</td>\n",
       "      <td>4280</td>\n",
       "      <td>4280</td>\n",
       "      <td>4279.0</td>\n",
       "    </tr>\n",
       "    <tr>\n",
       "      <th>unique</th>\n",
       "      <td>104</td>\n",
       "      <td>3807</td>\n",
       "      <td>6</td>\n",
       "      <td>4280</td>\n",
       "      <td>353.0</td>\n",
       "    </tr>\n",
       "    <tr>\n",
       "      <th>top</th>\n",
       "      <td>Chicago</td>\n",
       "      <td>Shake Shack</td>\n",
       "      <td>IL</td>\n",
       "      <td>https://www.yelp.com/biz/toast-bakery-cafe-los...</td>\n",
       "      <td>32819.0</td>\n",
       "    </tr>\n",
       "    <tr>\n",
       "      <th>freq</th>\n",
       "      <td>905</td>\n",
       "      <td>11</td>\n",
       "      <td>990</td>\n",
       "      <td>1</td>\n",
       "      <td>188.0</td>\n",
       "    </tr>\n",
       "  </tbody>\n",
       "</table>\n",
       "</div>"
      ],
      "text/plain": [
       "       business_city business_name business_state  \\\n",
       "count           4280          4280           4280   \n",
       "unique           104          3807              6   \n",
       "top          Chicago   Shake Shack             IL   \n",
       "freq             905            11            990   \n",
       "\n",
       "                                             business_url  business_zip  \n",
       "count                                                4280        4279.0  \n",
       "unique                                               4280         353.0  \n",
       "top     https://www.yelp.com/biz/toast-bakery-cafe-los...       32819.0  \n",
       "freq                                                    1         188.0  "
      ]
     },
     "execution_count": 6,
     "metadata": {},
     "output_type": "execute_result"
    }
   ],
   "source": [
    "biz_df.drop('business_star_rating', axis = 1).describe()"
   ]
  },
  {
   "cell_type": "code",
   "execution_count": 7,
   "metadata": {
    "scrolled": true
   },
   "outputs": [
    {
     "data": {
      "text/html": [
       "<div>\n",
       "<style scoped>\n",
       "    .dataframe tbody tr th:only-of-type {\n",
       "        vertical-align: middle;\n",
       "    }\n",
       "\n",
       "    .dataframe tbody tr th {\n",
       "        vertical-align: top;\n",
       "    }\n",
       "\n",
       "    .dataframe thead th {\n",
       "        text-align: right;\n",
       "    }\n",
       "</style>\n",
       "<table border=\"1\" class=\"dataframe\">\n",
       "  <thead>\n",
       "    <tr style=\"text-align: right;\">\n",
       "      <th></th>\n",
       "      <th>business_star_rating</th>\n",
       "    </tr>\n",
       "  </thead>\n",
       "  <tbody>\n",
       "    <tr>\n",
       "      <th>count</th>\n",
       "      <td>4280.000000</td>\n",
       "    </tr>\n",
       "    <tr>\n",
       "      <th>mean</th>\n",
       "      <td>3.840537</td>\n",
       "    </tr>\n",
       "    <tr>\n",
       "      <th>std</th>\n",
       "      <td>0.445149</td>\n",
       "    </tr>\n",
       "    <tr>\n",
       "      <th>min</th>\n",
       "      <td>2.000000</td>\n",
       "    </tr>\n",
       "    <tr>\n",
       "      <th>25%</th>\n",
       "      <td>3.500000</td>\n",
       "    </tr>\n",
       "    <tr>\n",
       "      <th>50%</th>\n",
       "      <td>4.000000</td>\n",
       "    </tr>\n",
       "    <tr>\n",
       "      <th>75%</th>\n",
       "      <td>4.000000</td>\n",
       "    </tr>\n",
       "    <tr>\n",
       "      <th>max</th>\n",
       "      <td>5.000000</td>\n",
       "    </tr>\n",
       "  </tbody>\n",
       "</table>\n",
       "</div>"
      ],
      "text/plain": [
       "       business_star_rating\n",
       "count           4280.000000\n",
       "mean               3.840537\n",
       "std                0.445149\n",
       "min                2.000000\n",
       "25%                3.500000\n",
       "50%                4.000000\n",
       "75%                4.000000\n",
       "max                5.000000"
      ]
     },
     "execution_count": 7,
     "metadata": {},
     "output_type": "execute_result"
    }
   ],
   "source": [
    "biz_df.describe()"
   ]
  },
  {
   "cell_type": "code",
   "execution_count": null,
   "metadata": {},
   "outputs": [],
   "source": [
    "biz_df[['business_star_rating', 'business_url']].groupby('business_star_rating').agg('count')"
   ]
  },
  {
   "cell_type": "markdown",
   "metadata": {},
   "source": [
    "## General summary"
   ]
  },
  {
   "cell_type": "markdown",
   "metadata": {},
   "source": [
    "### Categorical"
   ]
  },
  {
   "cell_type": "code",
   "execution_count": null,
   "metadata": {
    "scrolled": true
   },
   "outputs": [],
   "source": [
    "yelp_df.drop(['business_star_rating','business_zip','review_raiting', 'useful', 'funny', 'cool'], axis=1)"
   ]
  },
  {
   "cell_type": "markdown",
   "metadata": {},
   "source": [
    "### Numeric"
   ]
  },
  {
   "cell_type": "code",
   "execution_count": null,
   "metadata": {},
   "outputs": [],
   "source": [
    "yelp_df[['business_star_rating', 'review_raiting', 'useful', 'funny', 'cool']].describe()"
   ]
  },
  {
   "cell_type": "markdown",
   "metadata": {},
   "source": [
    "### Missing"
   ]
  },
  {
   "cell_type": "code",
   "execution_count": null,
   "metadata": {},
   "outputs": [],
   "source": [
    "yelp_df.isna().sum(0)"
   ]
  },
  {
   "cell_type": "markdown",
   "metadata": {},
   "source": [
    "## Label Anaysis"
   ]
  },
  {
   "cell_type": "code",
   "execution_count": null,
   "metadata": {},
   "outputs": [],
   "source": [
    "yelp_df[['business_url']].groupby([yelp_df['business_state'], yelp_df['label'] ]).agg('count')"
   ]
  },
  {
   "cell_type": "code",
   "execution_count": null,
   "metadata": {},
   "outputs": [],
   "source": [
    "biz_label_group = yelp_df[['business_state','label']].groupby(\n",
    "    [yelp_df['business_state'], yelp_df['label']])\n",
    "\n",
    "biz_label_group.agg('count').apply(lambda x: 100 * x / float(x.sum()))"
   ]
  },
  {
   "cell_type": "code",
   "execution_count": null,
   "metadata": {
    "scrolled": false
   },
   "outputs": [],
   "source": [
    "yelp_df.groupby(yelp_df['label']).agg('count')"
   ]
  },
  {
   "cell_type": "code",
   "execution_count": null,
   "metadata": {},
   "outputs": [],
   "source": [
    "test = yelp_df[['funny', 'label', 'business_url', 'review_text']].sort_values('funny', ascending=False).iloc[0,3]\n",
    "re.search(r'[ \\f\\t\\v]+$', test)"
   ]
  },
  {
   "cell_type": "code",
   "execution_count": null,
   "metadata": {},
   "outputs": [],
   "source": [
    "import re\n",
    "yelp_df[['review_text', 'business_url']].assign(end_on_whitespace=yelp_df['review_text'].apply(lambda x: re.search(' +$', x) != None)).query('end_on_whitespace == True')\n",
    "#re.findall('\\s$', yelp_df['review_text'])"
   ]
  },
  {
   "cell_type": "code",
   "execution_count": null,
   "metadata": {
    "scrolled": true
   },
   "outputs": [],
   "source": [
    "yelp_df.isna().sum(0)"
   ]
  },
  {
   "cell_type": "code",
   "execution_count": null,
   "metadata": {},
   "outputs": [],
   "source": [
    "yelp_df.sort_values('funny', ascending=False).drop_duplicates()"
   ]
  },
  {
   "cell_type": "markdown",
   "metadata": {},
   "source": [
    "# Fretures"
   ]
  },
  {
   "cell_type": "markdown",
   "metadata": {},
   "source": [
    "## Length of review"
   ]
  },
  {
   "cell_type": "code",
   "execution_count": null,
   "metadata": {},
   "outputs": [],
   "source": [
    "yelp_df[['review_text', 'label']].assign(review_length =\n",
    "    yelp_df['review_text'].apply(lambda x: len(x))).query('label == \"local\"')"
   ]
  },
  {
   "cell_type": "code",
   "execution_count": null,
   "metadata": {},
   "outputs": [],
   "source": [
    "yelp_df[['review_text', 'label']].assign(review_length =\n",
    "    yelp_df['review_text'].apply(lambda x: len(x))).query('label == \"remote\"').describe()"
   ]
  },
  {
   "cell_type": "markdown",
   "metadata": {},
   "source": [
    "#### Ratio of business rating to review rating"
   ]
  },
  {
   "cell_type": "code",
   "execution_count": null,
   "metadata": {
    "scrolled": true
   },
   "outputs": [],
   "source": [
    "yelp_df[['business_star_rating', 'review_raiting']].assign(review_biz_ratio= (yelp_df['review_raiting']/yelp_df['business_star_rating'])).sort_values('review_biz_ratio')"
   ]
  },
  {
   "cell_type": "markdown",
   "metadata": {},
   "source": [
    "# Plots"
   ]
  },
  {
   "cell_type": "code",
   "execution_count": 15,
   "metadata": {},
   "outputs": [],
   "source": [
    "from matplotlib import pyplot as plt\n",
    "\n",
    "from yellowbrick.text import FreqDistVisualizer\n",
    "from sklearn.feature_extraction.text import CountVectorizer\n",
    "\n",
    "from nltk.tokenize import RegexpTokenizer\n",
    "from nltk import word_tokenize\n",
    "from nltk import FreqDist"
   ]
  },
  {
   "cell_type": "code",
   "execution_count": 67,
   "metadata": {},
   "outputs": [
    {
     "name": "stdout",
     "output_type": "stream",
     "text": [
      "6859\n",
      "16500\n"
     ]
    }
   ],
   "source": [
    "yelp_df = yelp_df.rename(columns={'cool': 'cool_', 'label': 'label_', 'funny': 'funny_', 'useful': 'useful_'})\n",
    "\n",
    "state_min = min(yelp_df.query('business_state != \"NJ\"').groupby('business_state').agg('count').iloc[:, 0 ])\n",
    "\n",
    "print(state_min)\n",
    "\n",
    "sample_ny = yelp_df.query('business_state == \"NY\"').sample(n=state_min)\n",
    "sample_nv = yelp_df.query('business_state == \"NV\"').sample(n=state_min)\n",
    "sample_ca = yelp_df.query('business_state == \"CA\"').sample(n=state_min)\n",
    "sample_fl = yelp_df.query('business_state == \"FL\"').sample(n=state_min)\n",
    "sample_il = yelp_df.query('business_state == \"IL\"').sample(n=state_min)\n",
    "\n",
    "sample = pd.concat([sample_ny, sample_nv, sample_ca, sample_fl, sample_il]).reset_index(drop = True)\n",
    "\n",
    "sample_min = min(sample.groupby('label_').agg('count').iloc[:, 0])\n",
    "\n",
    "print(sample_min)\n",
    "\n",
    "local_sample = sample.query('label_ == \"local\"').sample(n=sample_min)\n",
    "remote_sample = sample.query('label_ == \"remote\"').sample(n=sample_min)\n",
    "\n",
    "yelp_df = pd.concat([local_sample, remote_sample]).reset_index(drop = True)"
   ]
  },
  {
   "cell_type": "code",
   "execution_count": 17,
   "metadata": {},
   "outputs": [],
   "source": [
    "vectorizer = CountVectorizer()\n",
    "docs       = vectorizer.fit_transform(yelp_df['review_text'].apply(lambda x: x.lower()))\n",
    "features   = vectorizer.get_feature_names()"
   ]
  },
  {
   "cell_type": "code",
   "execution_count": 18,
   "metadata": {
    "scrolled": true
   },
   "outputs": [
    {
     "data": {
      "image/png": "[encoded data removed]",
      "text/plain": [
       "<Figure size 1200x800 with 1 Axes>"
      ]
     },
     "metadata": {
      "needs_background": "light"
     },
     "output_type": "display_data"
    }
   ],
   "source": [
    "visualizer = FreqDistVisualizer(n= 40, fontsize=25, features=features, orient='h', size=(1200, 800))\n",
    "visualizer.fit(docs)\n",
    "visualizer.ax.legend(loc=4)\n",
    "visualizer.set_title()\n",
    "# Set the title\n",
    "# Create the vocab, count, and hapaxes labels\n",
    "infolabel = \"vocab: {:,}\\nword tokens: {:,}\\nhapax: {:,}\".format(\n",
    "    visualizer.vocab_, visualizer.words_, visualizer.hapaxes_\n",
    ")\n",
    "\n",
    "visualizer.ax.text(0.68, 0.97, infolabel, position=(.75,.1), transform=visualizer.ax.transAxes,\n",
    "             fontsize=20, verticalalignment='bottom',\n",
    "             bbox={'boxstyle':'round', 'facecolor':'white', 'alpha':.8})\n",
    "\n",
    "# Set the legend and the grid\n",
    "plt.title('Frequency Distribution of Top {} tokens'.format(visualizer.N), fontsize=30)\n",
    "plt.yticks(size=15)\n",
    "plt.xticks(size=15)\n",
    "plt.rcParams.update({'font.size': 22})\n",
    "plt.show(visualizer)\n"
   ]
  },
  {
   "cell_type": "code",
   "execution_count": 24,
   "metadata": {},
   "outputs": [],
   "source": [
    "tokenizer = RegexpTokenizer(r'\\w+')\n",
    "corpus_retokenized = tokenizer.tokenize(' '.join(yelp_df['review_text']).lower())"
   ]
  },
  {
   "cell_type": "code",
   "execution_count": 25,
   "metadata": {},
   "outputs": [],
   "source": [
    "reword_freq = FreqDist(corpus_retokenized)"
   ]
  },
  {
   "cell_type": "code",
   "execution_count": 26,
   "metadata": {},
   "outputs": [],
   "source": [
    "import operator\n",
    "refreq = reword_freq\n",
    "#freq = dict(sorted(freq.items(), reverse=True, key=lambda kv: kv[1]))\n",
    "refreq = sorted(refreq.items(), reverse=True, key=operator.itemgetter(1))\n",
    "for i in range(len(refreq)):\n",
    "    refreq[i] = (i, refreq[i][1])"
   ]
  },
  {
   "cell_type": "code",
   "execution_count": 27,
   "metadata": {},
   "outputs": [],
   "source": [
    "refreq_df = pd.DataFrame.from_dict(dict(refreq), orient='index')\n",
    "refreq_df = refreq_df.rename(columns={0: 'frequency'})\n",
    "refreq_df['count'] = refreq_df.index + 1"
   ]
  },
  {
   "cell_type": "code",
   "execution_count": 28,
   "metadata": {},
   "outputs": [
    {
     "data": {
      "text/plain": [
       "Text(0.5,0,'Word Type Rank (by Frequency)')"
      ]
     },
     "execution_count": 28,
     "metadata": {},
     "output_type": "execute_result"
    },
    {
     "data": {
      "image/png": "[encoded data removed]",
      "text/plain": [
       "<Figure size 1440x720 with 1 Axes>"
      ]
     },
     "metadata": {
      "needs_background": "light"
     },
     "output_type": "display_data"
    }
   ],
   "source": [
    "plt.figure(figsize=(20,10))\n",
    "s = plt.scatter(refreq_df['count'], refreq_df['frequency'])\n",
    "s.axes.loglog(True)\n",
    "plt.title('Word Frequency by Frequency Rank', fontsize=25)\n",
    "plt.ylabel('Token Frequency', fontsize=25)\n",
    "plt.xlabel('Word Type Rank (by Frequency)', fontsize=25)\n",
    "#refreq_df.plot(kind='scatter', loglog=True,  x='count', y='frequency')"
   ]
  },
  {
   "cell_type": "markdown",
   "metadata": {},
   "source": [
    "Zipf's law states natural language corpus of utterances, the frequency of any word type is inversely proportional to its rank in the frequency table."
   ]
  },
  {
   "cell_type": "markdown",
   "metadata": {},
   "source": [
    "So frequency of the word with rank n is proportional to 1/n. In other words, the most ranked word is around twice as common as the second ranked word, and a thousand times more common than the word with rank 100,000.)\n",
    "\n",
    "We can check Zipf's Law for the scraped corpus of Yelp reviews by plotting the frequencies of the word types in rank order on a log-log graph."
   ]
  },
  {
   "cell_type": "markdown",
   "metadata": {},
   "source": [
    "## Add confusion matrx"
   ]
  },
  {
   "cell_type": "markdown",
   "metadata": {},
   "source": [
    "## Add decision Plot"
   ]
  },
  {
   "cell_type": "markdown",
   "metadata": {},
   "source": [
    "# Modeling"
   ]
  },
  {
   "cell_type": "markdown",
   "metadata": {},
   "source": [
    "## Import"
   ]
  },
  {
   "cell_type": "code",
   "execution_count": 300,
   "metadata": {},
   "outputs": [],
   "source": [
    "import numpy as np\n",
    "import pandas as pd\n",
    "import pickle\n",
    "import time\n",
    "import sklearn.model_selection\n",
    "from sklearn.model_selection import train_test_split\n",
    "from sklearn.feature_extraction.text import HashingVectorizer\n",
    "from sklearn.feature_extraction.text import CountVectorizer\n",
    "from sklearn.naive_bayes import GaussianNB\n",
    "from sklearn.linear_model import LogisticRegression\n",
    "from sklearn.metrics import confusion_matrix"
   ]
  },
  {
   "cell_type": "code",
   "execution_count": 301,
   "metadata": {},
   "outputs": [],
   "source": [
    "yelp_df = pd.read_csv('/home/gavagai/code/yelp_tourist_classifier/data/all_reviews_cleaned.csv')"
   ]
  },
  {
   "cell_type": "markdown",
   "metadata": {},
   "source": [
    "## Add features"
   ]
  },
  {
   "cell_type": "markdown",
   "metadata": {},
   "source": [
    "#### review length"
   ]
  },
  {
   "cell_type": "code",
   "execution_count": 302,
   "metadata": {},
   "outputs": [],
   "source": [
    "yelp_df= yelp_df.assign(review_length =\n",
    "    yelp_df['review_text'].apply(lambda x: len(x)))"
   ]
  },
  {
   "cell_type": "markdown",
   "metadata": {},
   "source": [
    "#### week of year"
   ]
  },
  {
   "cell_type": "code",
   "execution_count": 303,
   "metadata": {},
   "outputs": [],
   "source": [
    "yelp_df = yelp_df.assign(week_of_year =\n",
    "    yelp_df['review_date'].apply(lambda x: time.strptime(x, \"%m/%d/%Y\").tm_yday // 7))"
   ]
  },
  {
   "cell_type": "markdown",
   "metadata": {},
   "source": [
    "#### day of week"
   ]
  },
  {
   "cell_type": "code",
   "execution_count": 304,
   "metadata": {},
   "outputs": [],
   "source": [
    "yelp_df = yelp_df.assign(day_of_week =\n",
    "    yelp_df['review_date'].apply(lambda x: time.strptime(x, \"%m/%d/%Y\").tm_wday))"
   ]
  },
  {
   "cell_type": "markdown",
   "metadata": {},
   "source": [
    "#### city mentioned"
   ]
  },
  {
   "cell_type": "code",
   "execution_count": 305,
   "metadata": {},
   "outputs": [],
   "source": [
    "yelp_df = yelp_df.assign(city_mentioned = 0)"
   ]
  },
  {
   "cell_type": "code",
   "execution_count": 306,
   "metadata": {},
   "outputs": [],
   "source": [
    "vecIn = np.vectorize(lambda a, b: a.lower() in b.lower() )"
   ]
  },
  {
   "cell_type": "code",
   "execution_count": 307,
   "metadata": {},
   "outputs": [],
   "source": [
    "yelp_df = yelp_df.assign(city_mentioned = np.where(vecIn(yelp_df['business_city'].values, yelp_df['review_text'].values), 1, 0))"
   ]
  },
  {
   "cell_type": "markdown",
   "metadata": {},
   "source": [
    "#### reviewer state"
   ]
  },
  {
   "cell_type": "code",
   "execution_count": 308,
   "metadata": {},
   "outputs": [],
   "source": [
    "yelp_df = yelp_df.assign(reviewer_state = yelp_df['reviewer_location'].astype(str).apply(lambda x: x[-2:]))"
   ]
  },
  {
   "cell_type": "markdown",
   "metadata": {},
   "source": [
    "#### POS Tagging"
   ]
  },
  {
   "cell_type": "code",
   "execution_count": 309,
   "metadata": {},
   "outputs": [],
   "source": [
    "from nltk.tag.stanford import StanfordPOSTagger\n",
    "from nltk import word_tokenize\n",
    "from os import environ\n",
    "import pickle\n",
    "import nltk\n",
    "\n",
    "def review_tokenize(reviews):\n",
    "    return map(lambda review: word_tokenize(review), reviews)\n",
    "\n",
    "def review_tager(tokenized_reviews):    \n",
    "    st_model_path = r'SPOST/models/english-bidirectional-distsim.tagger'\n",
    "    st = StanfordPOSTagger(st_model_path,\n",
    "                           r'SPOST/stanford-postagger.jar')\n",
    "    results = []\n",
    "    errors = []\n",
    "    count = 0\n",
    "\n",
    "#     return map(lambda review: st.tag(review), tokenized_reviews)\n",
    "    for review in tokenized_reviews:\n",
    "        try:\n",
    "            results.append(st.tag(review))\n",
    "            count += 1\n",
    "        except:\n",
    "            print(count)\n",
    "            errors.append(count)\n",
    "            results.append(review)\n",
    "            count += 1\n",
    "    print('errors for the following indexes\\n', errors)\n",
    "    return results  # [st.tag(review) for review in tokenized_reviews]\n"
   ]
  },
  {
   "cell_type": "code",
   "execution_count": null,
   "metadata": {},
   "outputs": [],
   "source": [
    "# tokenized_reviews = review_tokenize(yelp_df['review_text'])\n",
    "# reviews_tagged = review_tager(tokenized_reviews)"
   ]
  },
  {
   "cell_type": "code",
   "execution_count": 92,
   "metadata": {},
   "outputs": [],
   "source": [
    "with open('reviews_tagged.p', 'rb') as f_reviews_tagged:\n",
    "    reviews_tagged = pickle.load(f_reviews_tagged)"
   ]
  },
  {
   "cell_type": "code",
   "execution_count": 77,
   "metadata": {},
   "outputs": [],
   "source": [
    "pos = ['CC','CD','DT','EX','FW','IN','JJ','JJR','JJS','LS','MD','NN','NNS','NNP','NNPS','PDT','POS','PRP','PRP$','RB','RBR','RBS','RP','SYM','TO','UH','VB','VBD','VBG','VBN','VBP','VBZ','WDT','WP','WP$','WRB']\n",
    "{}\n",
    "\n",
    "for p in pos:\n",
    "    for review in yelp_df['reviews_tagged']"
   ]
  },
  {
   "cell_type": "code",
   "execution_count": null,
   "metadata": {},
   "outputs": [],
   "source": [
    "def pos(df, pos_, text_field1, text_field2):\n",
    "    vecIn = np.vectorize(lambda a, b: a.lower() in b.lower())\n",
    "    return df.assign(pos_=np.where(\n",
    "        vecIn(df[text_field1].values, df[text_field2].values), 1, 0))"
   ]
  },
  {
   "cell_type": "code",
   "execution_count": 57,
   "metadata": {},
   "outputs": [],
   "source": [
    "yelp_df['reviews_tagged'] = reviews_tagged"
   ]
  },
  {
   "cell_type": "code",
   "execution_count": 310,
   "metadata": {},
   "outputs": [],
   "source": [
    "class pos_counter():\n",
    "\n",
    "    adverbs = [u'RB', u'RBR', u'RBS', u'RBS\\r', u'RB\\r', u'RBR\\r']\n",
    "    simple_past = [u'VBD', u'VBD\\r']\n",
    "    simple_present = [u'VBP', u'VPZ', u'VBP\\r', u'VPZ\\r']\n",
    "    past_participle = [u'VBN', u'VBN\\r']\n",
    "    modal = [u'MD', u'MD\\r']\n",
    "    pn = [u'NNP', u'NNPS', u'NNP\\r', u'NNPS\\r']\n",
    "    prep = [u'IN', u'IN\\r']\n",
    "    nn = [u'NN', u'NN\\r']\n",
    "    adj = [u'JJ', u'JJ\\r']\n",
    "    dt = [u'DT', u'DT\\r']\n",
    "\n",
    "    def count_pos(tagged_reviews, pos_list):\n",
    "        count = 0\n",
    "        for review in tagged_reviews:\n",
    "            try:\n",
    "                if review[1] in pos_list:\n",
    "                    count += 1\n",
    "            except:\n",
    "                pass\n",
    "        return float(count)"
   ]
  },
  {
   "cell_type": "markdown",
   "metadata": {},
   "source": [
    "## POS Features"
   ]
  },
  {
   "cell_type": "code",
   "execution_count": 311,
   "metadata": {},
   "outputs": [],
   "source": [
    "yelp_df[\"adv count\"] = [\n",
    "        pos_counter.count_pos(review, pos_counter.adverbs)\n",
    "        for review in reviews_tagged]\n",
    "\n",
    "yelp_df[\"past prog\"] = [\n",
    "    pos_counter.count_pos(review, pos_counter.past_participle)\n",
    "    for review in reviews_tagged]\n",
    "\n",
    "yelp_df[\"simple future\"] = [\n",
    "    pos_counter.count_pos(review, pos_counter.modal)\n",
    "    for review in reviews_tagged]\n",
    "\n",
    "yelp_df[\"simple past\"] = [\n",
    "    pos_counter.count_pos(review, pos_counter.simple_past)\n",
    "    for review in reviews_tagged]\n",
    "\n",
    "yelp_df[\"simple present\"] = [\n",
    "    pos_counter.count_pos(review, pos_counter.simple_present)\n",
    "    for review in reviews_tagged]\n",
    "\n",
    "yelp_df['porper name'] = [\n",
    "    pos_counter.count_pos(review, pos_counter.pn)\n",
    "    for review in reviews_tagged]\n",
    "\n",
    "yelp_df['prep count'] = [\n",
    "    pos_counter.count_pos(review, pos_counter.prep)\n",
    "    for review in reviews_tagged]\n",
    "\n",
    "yelp_df['nn count'] = [\n",
    "    pos_counter.count_pos(review, pos_counter.nn)\n",
    "    for review in reviews_tagged]\n",
    "\n",
    "yelp_df['adj count'] = [\n",
    "    pos_counter.count_pos(review, pos_counter.adj)\n",
    "    for review in reviews_tagged]\n",
    "\n",
    "yelp_df['det count'] = [\n",
    "    pos_counter.count_pos(review, pos_counter.dt)\n",
    "    for review in reviews_tagged]"
   ]
  },
  {
   "cell_type": "code",
   "execution_count": null,
   "metadata": {},
   "outputs": [],
   "source": []
  },
  {
   "cell_type": "code",
   "execution_count": 261,
   "metadata": {},
   "outputs": [],
   "source": [
    "pltme =yelp_df.loc[:, ['det count', 'adj count', 'nn count', 'prep count', 'porper name', \"simple present\", \"simple past\", \"simple future\", \"past prog\", 'adv count', 'label']].groupby('label').agg('sum').apply(lambda x: (x[0] - x[1] / x[0] + x[1])).transform(lambda x:((x-x.mean())/x.std()))"
   ]
  },
  {
   "cell_type": "code",
   "execution_count": 242,
   "metadata": {},
   "outputs": [],
   "source": [
    "pltme = pd.DataFrame(pltme).T"
   ]
  },
  {
   "cell_type": "code",
   "execution_count": 299,
   "metadata": {},
   "outputs": [
    {
     "name": "stdout",
     "output_type": "stream",
     "text": [
      "/usr/bin/sh: /home/gavagai/Screenshots/screenshot_2018-10-31-1541006284.png: Permission denied\r\n"
     ]
    }
   ],
   "source": [
    "!('/home/gavagai/Screenshots/screenshot_2018-10-31-1541006284.png')\n"
   ]
  },
  {
   "cell_type": "code",
   "execution_count": 281,
   "metadata": {},
   "outputs": [],
   "source": [
    "ticks = ['det count', 'adj count', 'nn count', 'prep count', 'porper name',\n",
    "       'simple present', 'simple past', 'simple future', 'past prog',\n",
    "       'adv count']"
   ]
  },
  {
   "cell_type": "code",
   "execution_count": 293,
   "metadata": {
    "scrolled": true
   },
   "outputs": [
    {
     "data": {
      "text/plain": [
       "(array([-1.5, -1. , -0.5,  0. ,  0.5,  1. ,  1.5,  2. ,  2.5]),\n",
       " <a list of 9 Text yticklabel objects>)"
      ]
     },
     "execution_count": 293,
     "metadata": {},
     "output_type": "execute_result"
    },
    {
     "data": {
      "image/png": "[encoded data removed]",
      "text/plain": [
       "<Figure size 1440x720 with 1 Axes>"
      ]
     },
     "metadata": {
      "needs_background": "light"
     },
     "output_type": "display_data"
    }
   ],
   "source": [
    "# ins = np.arange(10)\n",
    "# plt.figure(figsize=(20,10))\n",
    "# plt.title('Pairwise comparison of tags (across labels)', fontsize=25)\n",
    "# plt.bar(ins, pltme.sort_values())\n",
    "# plt.xticks(ins, ticks, rotation=45, fontsize=20)\n",
    "# plt.yticks(size=20)\n",
    "\n"
   ]
  },
  {
   "cell_type": "markdown",
   "metadata": {},
   "source": [
    "### Saliance function"
   ]
  },
  {
   "cell_type": "markdown",
   "metadata": {},
   "source": [
    "## Saliance"
   ]
  },
  {
   "cell_type": "code",
   "execution_count": null,
   "metadata": {},
   "outputs": [],
   "source": [
    "def saliance(unigrams, unigram_labels, theta=.50):\n",
    "    \"\"\" saliance(data) takes a dataframe and returns a list of dropable variables\n",
    "    that do not meet a salience theta\n",
    "    \"\"\"\n",
    "    unigrams = pd.concat([unigrams.reset_index(drop=True), unigram_labels], axis=1)\n",
    "    unigrams_l = unigrams.query('label == \"local\"')\n",
    "    unigrams_r = unigrams.query('label == \"remote\"')\n",
    "\n",
    "    drop_words = []\n",
    "    \n",
    "    for word in unigrams.drop('label', axis = 1):\n",
    "        normalizer = len([x for x in unigrams[word] if x > 0])\n",
    "        l_prob_sum = len([x for x in unigrams_l[word] if x > 0]) / normalizer\n",
    "        r_prob_sum =  len([x for x in unigrams_r[word] if x > 0]) / normalizer\n",
    "        min_ = min(r_prob_sum, l_prob_sum)\n",
    "        max_ = max(r_prob_sum, l_prob_sum)\n",
    "        if max_ != 0:\n",
    "            salience = (1 - (min_/max_))\n",
    "        else:\n",
    "            salience = 0\n",
    "        if salience == 1 or salience < theta:\n",
    "    return drop_words"
   ]
  },
  {
   "cell_type": "code",
   "execution_count": 314,
   "metadata": {},
   "outputs": [],
   "source": [
    "def saliance(words, local_words, remote_words, theta=.50):\n",
    "    \"\"\" saliance(data) takes a dataframe and returns a list of variables to keep\n",
    "    that meet a salience theta\n",
    "    \"\"\"\n",
    "    keep_words = []\n",
    "    for i in range(words.shape[1]):\n",
    "        normalizer = words[:, i].sum()\n",
    "        l_prob_sum = local_words[:, i].sum() / normalizer\n",
    "        r_prob_sum = remote_words[:, i].sum() / normalizer\n",
    "\n",
    "        min_ = min(r_prob_sum, l_prob_sum)\n",
    "        max_ = max(r_prob_sum, l_prob_sum)\n",
    "        if max_ != 0:\n",
    "                salience = (1 - (min_ / max_))\n",
    "        else:\n",
    "                salience = 0\n",
    "        if salience > theta:\n",
    "            if max_ == l_prob_sum:\n",
    "                keep_words.append((i, salience, 'local'))\n",
    "            else:\n",
    "                keep_words.append((i, salience, 'remote'))\n",
    "    return keep_words"
   ]
  },
  {
   "cell_type": "code",
   "execution_count": 326,
   "metadata": {
    "scrolled": true
   },
   "outputs": [],
   "source": [
    "unigram_vect = sklearn.feature_extraction.text.CountVectorizer(\n",
    "    analyzer=\"word\",\n",
    "    tokenizer=None,\n",
    "    preprocessor=None,\n",
    "    ngram_range=(2,2),\n",
    "    stop_words=None,\n",
    "    max_features=1000)\n",
    "\n",
    "yelp_df = yelp_df.rename(columns={'cool': 'cool_', 'label': 'label_', 'funny': 'funny_', 'useful': 'useful_'})\n",
    "\n",
    "unigram_fit = unigram_vect.fit_transform(yelp_df['review_text'])\n",
    "\n",
    "unigrams = pd.DataFrame(\n",
    "     unigram_fit.A, columns=unigram_vect.get_feature_names())\n",
    "\n",
    "unigrams = pd.concat([\n",
    "    unigrams.reset_index(drop=True), \n",
    "    yelp_df[['label_']]], axis=1)\n",
    "\n",
    "sali = unigrams.groupby('label_').agg(\n",
    "    lambda x: sum(x > 1)).apply(\n",
    "    lambda x: 1 - (min(x)/max(x)) if max(x) != 0 else 0)\n",
    "sali_type = unigrams.groupby('label_').agg(\n",
    "    lambda x: sum(x > 1)).apply(\n",
    "    lambda x: 'local' if x[0] > x[1] else 'remote')"
   ]
  },
  {
   "cell_type": "code",
   "execution_count": null,
   "metadata": {},
   "outputs": [],
   "source": [
    "had some\t0.666667\tremote\n",
    "here on\t0.666667\tlocal\n",
    "if the\t0.714286\tlocal\n",
    "in nyc\t0.807692\tremote"
   ]
  },
  {
   "cell_type": "code",
   "execution_count": 340,
   "metadata": {},
   "outputs": [
    {
     "ename": "TypeError",
     "evalue": "sort_values() missing 1 required positional argument: 'by'",
     "output_type": "error",
     "traceback": [
      "\u001b[0;31m---------------------------------------------------------------------------\u001b[0m",
      "\u001b[0;31mTypeError\u001b[0m                                 Traceback (most recent call last)",
      "\u001b[0;32m<ipython-input-340-b47315d7e20d>\u001b[0m in \u001b[0;36m<module>\u001b[0;34m\u001b[0m\n\u001b[0;32m----> 1\u001b[0;31m \u001b[0mx\u001b[0m\u001b[0;34m[\u001b[0m\u001b[0;36m0\u001b[0m\u001b[0;34m:\u001b[0m\u001b[0;36m1\u001b[0m\u001b[0;34m]\u001b[0m\u001b[0;34m.\u001b[0m\u001b[0msort_values\u001b[0m\u001b[0;34m(\u001b[0m\u001b[0mascending\u001b[0m\u001b[0;34m=\u001b[0m\u001b[0;32mFalse\u001b[0m\u001b[0;34m)\u001b[0m\u001b[0;34m\u001b[0m\u001b[0m\n\u001b[0m",
      "\u001b[0;31mTypeError\u001b[0m: sort_values() missing 1 required positional argument: 'by'"
     ]
    }
   ],
   "source": [
    "x[0].sort_values(ascending=False)"
   ]
  },
  {
   "cell_type": "code",
   "execution_count": 344,
   "metadata": {},
   "outputs": [
    {
     "data": {
      "text/html": [
       "<div>\n",
       "<style scoped>\n",
       "    .dataframe tbody tr th:only-of-type {\n",
       "        vertical-align: middle;\n",
       "    }\n",
       "\n",
       "    .dataframe tbody tr th {\n",
       "        vertical-align: top;\n",
       "    }\n",
       "\n",
       "    .dataframe thead th {\n",
       "        text-align: right;\n",
       "    }\n",
       "</style>\n",
       "<table border=\"1\" class=\"dataframe\">\n",
       "  <thead>\n",
       "    <tr style=\"text-align: right;\">\n",
       "      <th></th>\n",
       "      <th>0</th>\n",
       "      <th>label</th>\n",
       "    </tr>\n",
       "  </thead>\n",
       "  <tbody>\n",
       "    <tr>\n",
       "      <th>good service</th>\n",
       "      <td>1.000000</td>\n",
       "      <td>local</td>\n",
       "    </tr>\n",
       "    <tr>\n",
       "      <th>very attentive</th>\n",
       "      <td>1.000000</td>\n",
       "      <td>local</td>\n",
       "    </tr>\n",
       "    <tr>\n",
       "      <th>dinner and</th>\n",
       "      <td>1.000000</td>\n",
       "      <td>local</td>\n",
       "    </tr>\n",
       "    <tr>\n",
       "      <th>was friendly</th>\n",
       "      <td>1.000000</td>\n",
       "      <td>remote</td>\n",
       "    </tr>\n",
       "    <tr>\n",
       "      <th>and attentive</th>\n",
       "      <td>1.000000</td>\n",
       "      <td>local</td>\n",
       "    </tr>\n",
       "    <tr>\n",
       "      <th>times and</th>\n",
       "      <td>1.000000</td>\n",
       "      <td>local</td>\n",
       "    </tr>\n",
       "    <tr>\n",
       "      <th>place has</th>\n",
       "      <td>1.000000</td>\n",
       "      <td>local</td>\n",
       "    </tr>\n",
       "    <tr>\n",
       "      <th>and friendly</th>\n",
       "      <td>1.000000</td>\n",
       "      <td>local</td>\n",
       "    </tr>\n",
       "    <tr>\n",
       "      <th>back here</th>\n",
       "      <td>1.000000</td>\n",
       "      <td>remote</td>\n",
       "    </tr>\n",
       "    <tr>\n",
       "      <th>you to</th>\n",
       "      <td>0.900000</td>\n",
       "      <td>local</td>\n",
       "    </tr>\n",
       "    <tr>\n",
       "      <th>quick and</th>\n",
       "      <td>0.875000</td>\n",
       "      <td>remote</td>\n",
       "    </tr>\n",
       "    <tr>\n",
       "      <th>waiter was</th>\n",
       "      <td>0.875000</td>\n",
       "      <td>local</td>\n",
       "    </tr>\n",
       "    <tr>\n",
       "      <th>and even</th>\n",
       "      <td>0.875000</td>\n",
       "      <td>remote</td>\n",
       "    </tr>\n",
       "    <tr>\n",
       "      <th>clean and</th>\n",
       "      <td>0.857143</td>\n",
       "      <td>remote</td>\n",
       "    </tr>\n",
       "    <tr>\n",
       "      <th>is nice</th>\n",
       "      <td>0.857143</td>\n",
       "      <td>local</td>\n",
       "    </tr>\n",
       "    <tr>\n",
       "      <th>and for</th>\n",
       "      <td>0.857143</td>\n",
       "      <td>local</td>\n",
       "    </tr>\n",
       "    <tr>\n",
       "      <th>taste the</th>\n",
       "      <td>0.857143</td>\n",
       "      <td>local</td>\n",
       "    </tr>\n",
       "    <tr>\n",
       "      <th>everything is</th>\n",
       "      <td>0.857143</td>\n",
       "      <td>local</td>\n",
       "    </tr>\n",
       "    <tr>\n",
       "      <th>not be</th>\n",
       "      <td>0.846154</td>\n",
       "      <td>local</td>\n",
       "    </tr>\n",
       "    <tr>\n",
       "      <th>in vegas</th>\n",
       "      <td>0.846154</td>\n",
       "      <td>remote</td>\n",
       "    </tr>\n",
       "    <tr>\n",
       "      <th>like this</th>\n",
       "      <td>0.833333</td>\n",
       "      <td>local</td>\n",
       "    </tr>\n",
       "    <tr>\n",
       "      <th>is super</th>\n",
       "      <td>0.833333</td>\n",
       "      <td>local</td>\n",
       "    </tr>\n",
       "    <tr>\n",
       "      <th>try to</th>\n",
       "      <td>0.833333</td>\n",
       "      <td>local</td>\n",
       "    </tr>\n",
       "    <tr>\n",
       "      <th>but there</th>\n",
       "      <td>0.833333</td>\n",
       "      <td>local</td>\n",
       "    </tr>\n",
       "    <tr>\n",
       "      <th>to visit</th>\n",
       "      <td>0.818182</td>\n",
       "      <td>remote</td>\n",
       "    </tr>\n",
       "    <tr>\n",
       "      <th>was fresh</th>\n",
       "      <td>0.818182</td>\n",
       "      <td>remote</td>\n",
       "    </tr>\n",
       "    <tr>\n",
       "      <th>in nyc</th>\n",
       "      <td>0.807692</td>\n",
       "      <td>remote</td>\n",
       "    </tr>\n",
       "    <tr>\n",
       "      <th>my go</th>\n",
       "      <td>0.800000</td>\n",
       "      <td>local</td>\n",
       "    </tr>\n",
       "    <tr>\n",
       "      <th>amazing the</th>\n",
       "      <td>0.800000</td>\n",
       "      <td>local</td>\n",
       "    </tr>\n",
       "    <tr>\n",
       "      <th>what it</th>\n",
       "      <td>0.800000</td>\n",
       "      <td>local</td>\n",
       "    </tr>\n",
       "    <tr>\n",
       "      <th>...</th>\n",
       "      <td>...</td>\n",
       "      <td>...</td>\n",
       "    </tr>\n",
       "    <tr>\n",
       "      <th>for what</th>\n",
       "      <td>0.714286</td>\n",
       "      <td>local</td>\n",
       "    </tr>\n",
       "    <tr>\n",
       "      <th>but my</th>\n",
       "      <td>0.714286</td>\n",
       "      <td>local</td>\n",
       "    </tr>\n",
       "    <tr>\n",
       "      <th>was fantastic</th>\n",
       "      <td>0.714286</td>\n",
       "      <td>remote</td>\n",
       "    </tr>\n",
       "    <tr>\n",
       "      <th>that there</th>\n",
       "      <td>0.714286</td>\n",
       "      <td>remote</td>\n",
       "    </tr>\n",
       "    <tr>\n",
       "      <th>was extremely</th>\n",
       "      <td>0.714286</td>\n",
       "      <td>local</td>\n",
       "    </tr>\n",
       "    <tr>\n",
       "      <th>they re</th>\n",
       "      <td>0.707317</td>\n",
       "      <td>local</td>\n",
       "    </tr>\n",
       "    <tr>\n",
       "      <th>with friends</th>\n",
       "      <td>0.700000</td>\n",
       "      <td>local</td>\n",
       "    </tr>\n",
       "    <tr>\n",
       "      <th>was in</th>\n",
       "      <td>0.700000</td>\n",
       "      <td>remote</td>\n",
       "    </tr>\n",
       "    <tr>\n",
       "      <th>was awesome</th>\n",
       "      <td>0.700000</td>\n",
       "      <td>local</td>\n",
       "    </tr>\n",
       "    <tr>\n",
       "      <th>outdoor seating</th>\n",
       "      <td>0.700000</td>\n",
       "      <td>local</td>\n",
       "    </tr>\n",
       "    <tr>\n",
       "      <th>delicious and</th>\n",
       "      <td>0.700000</td>\n",
       "      <td>local</td>\n",
       "    </tr>\n",
       "    <tr>\n",
       "      <th>was more</th>\n",
       "      <td>0.692308</td>\n",
       "      <td>local</td>\n",
       "    </tr>\n",
       "    <tr>\n",
       "      <th>tender and</th>\n",
       "      <td>0.692308</td>\n",
       "      <td>remote</td>\n",
       "    </tr>\n",
       "    <tr>\n",
       "      <th>should be</th>\n",
       "      <td>0.687500</td>\n",
       "      <td>local</td>\n",
       "    </tr>\n",
       "    <tr>\n",
       "      <th>could be</th>\n",
       "      <td>0.666667</td>\n",
       "      <td>local</td>\n",
       "    </tr>\n",
       "    <tr>\n",
       "      <th>and an</th>\n",
       "      <td>0.666667</td>\n",
       "      <td>local</td>\n",
       "    </tr>\n",
       "    <tr>\n",
       "      <th>wrong with</th>\n",
       "      <td>0.666667</td>\n",
       "      <td>local</td>\n",
       "    </tr>\n",
       "    <tr>\n",
       "      <th>with side</th>\n",
       "      <td>0.666667</td>\n",
       "      <td>local</td>\n",
       "    </tr>\n",
       "    <tr>\n",
       "      <th>food but</th>\n",
       "      <td>0.666667</td>\n",
       "      <td>local</td>\n",
       "    </tr>\n",
       "    <tr>\n",
       "      <th>an amazing</th>\n",
       "      <td>0.666667</td>\n",
       "      <td>remote</td>\n",
       "    </tr>\n",
       "    <tr>\n",
       "      <th>were in</th>\n",
       "      <td>0.666667</td>\n",
       "      <td>remote</td>\n",
       "    </tr>\n",
       "    <tr>\n",
       "      <th>it on</th>\n",
       "      <td>0.666667</td>\n",
       "      <td>remote</td>\n",
       "    </tr>\n",
       "    <tr>\n",
       "      <th>here on</th>\n",
       "      <td>0.666667</td>\n",
       "      <td>local</td>\n",
       "    </tr>\n",
       "    <tr>\n",
       "      <th>of people</th>\n",
       "      <td>0.666667</td>\n",
       "      <td>local</td>\n",
       "    </tr>\n",
       "    <tr>\n",
       "      <th>can say</th>\n",
       "      <td>0.666667</td>\n",
       "      <td>local</td>\n",
       "    </tr>\n",
       "    <tr>\n",
       "      <th>wait to</th>\n",
       "      <td>0.666667</td>\n",
       "      <td>local</td>\n",
       "    </tr>\n",
       "    <tr>\n",
       "      <th>food to</th>\n",
       "      <td>0.666667</td>\n",
       "      <td>remote</td>\n",
       "    </tr>\n",
       "    <tr>\n",
       "      <th>had some</th>\n",
       "      <td>0.666667</td>\n",
       "      <td>remote</td>\n",
       "    </tr>\n",
       "    <tr>\n",
       "      <th>is also</th>\n",
       "      <td>0.666667</td>\n",
       "      <td>local</td>\n",
       "    </tr>\n",
       "    <tr>\n",
       "      <th>very friendly</th>\n",
       "      <td>0.666667</td>\n",
       "      <td>remote</td>\n",
       "    </tr>\n",
       "  </tbody>\n",
       "</table>\n",
       "<p>73 rows × 2 columns</p>\n",
       "</div>"
      ],
      "text/plain": [
       "                        0   label\n",
       "good service     1.000000   local\n",
       "very attentive   1.000000   local\n",
       "dinner and       1.000000   local\n",
       "was friendly     1.000000  remote\n",
       "and attentive    1.000000   local\n",
       "times and        1.000000   local\n",
       "place has        1.000000   local\n",
       "and friendly     1.000000   local\n",
       "back here        1.000000  remote\n",
       "you to           0.900000   local\n",
       "quick and        0.875000  remote\n",
       "waiter was       0.875000   local\n",
       "and even         0.875000  remote\n",
       "clean and        0.857143  remote\n",
       "is nice          0.857143   local\n",
       "and for          0.857143   local\n",
       "taste the        0.857143   local\n",
       "everything is    0.857143   local\n",
       "not be           0.846154   local\n",
       "in vegas         0.846154  remote\n",
       "like this        0.833333   local\n",
       "is super         0.833333   local\n",
       "try to           0.833333   local\n",
       "but there        0.833333   local\n",
       "to visit         0.818182  remote\n",
       "was fresh        0.818182  remote\n",
       "in nyc           0.807692  remote\n",
       "my go            0.800000   local\n",
       "amazing the      0.800000   local\n",
       "what it          0.800000   local\n",
       "...                   ...     ...\n",
       "for what         0.714286   local\n",
       "but my           0.714286   local\n",
       "was fantastic    0.714286  remote\n",
       "that there       0.714286  remote\n",
       "was extremely    0.714286   local\n",
       "they re          0.707317   local\n",
       "with friends     0.700000   local\n",
       "was in           0.700000  remote\n",
       "was awesome      0.700000   local\n",
       "outdoor seating  0.700000   local\n",
       "delicious and    0.700000   local\n",
       "was more         0.692308   local\n",
       "tender and       0.692308  remote\n",
       "should be        0.687500   local\n",
       "could be         0.666667   local\n",
       "and an           0.666667   local\n",
       "wrong with       0.666667   local\n",
       "with side        0.666667   local\n",
       "food but         0.666667   local\n",
       "an amazing       0.666667  remote\n",
       "were in          0.666667  remote\n",
       "it on            0.666667  remote\n",
       "here on          0.666667   local\n",
       "of people        0.666667   local\n",
       "can say          0.666667   local\n",
       "wait to          0.666667   local\n",
       "food to          0.666667  remote\n",
       "had some         0.666667  remote\n",
       "is also          0.666667   local\n",
       "very friendly    0.666667  remote\n",
       "\n",
       "[73 rows x 2 columns]"
      ]
     },
     "execution_count": 344,
     "metadata": {},
     "output_type": "execute_result"
    }
   ],
   "source": [
    "sali_type = unigrams.groupby('label_').agg(\n",
    "    lambda x: sum(x > 1)).apply(\n",
    "    lambda x: 'local' if x[0] > x[1] else 'remote')\n",
    "x = pd.DataFrame(sali[sali > .65])\n",
    "x['label'] = sali_type[sali > .65]\n",
    "x.sort_values(by=0, ascending=False)"
   ]
  },
  {
   "cell_type": "code",
   "execution_count": 320,
   "metadata": {},
   "outputs": [],
   "source": [
    "sali_type = unigrams.groupby('label_').agg(\n",
    "    lambda x: sum(x > 1)).apply(\n",
    "    lambda x: 'local' if x[0] > x[1] else 'remote')"
   ]
  },
  {
   "cell_type": "code",
   "execution_count": 321,
   "metadata": {},
   "outputs": [
    {
     "data": {
      "text/plain": [
       "10             local\n",
       "11             local\n",
       "12             local\n",
       "15            remote\n",
       "20             local\n",
       "25             local\n",
       "30             local\n",
       "40             local\n",
       "45            remote\n",
       "50             local\n",
       "able           local\n",
       "about          local\n",
       "above         remote\n",
       "absolutely    remote\n",
       "across         local\n",
       "actually       local\n",
       "add            local\n",
       "added          local\n",
       "after          local\n",
       "afternoon     remote\n",
       "again          local\n",
       "ago            local\n",
       "al             local\n",
       "all            local\n",
       "almost         local\n",
       "along         remote\n",
       "already        local\n",
       "also           local\n",
       "although      remote\n",
       "always         local\n",
       "               ...  \n",
       "wife          remote\n",
       "will           local\n",
       "wine           local\n",
       "wings          local\n",
       "wish          remote\n",
       "with           local\n",
       "within         local\n",
       "without       remote\n",
       "won            local\n",
       "wonderful     remote\n",
       "work           local\n",
       "working        local\n",
       "world         remote\n",
       "worst         remote\n",
       "worth         remote\n",
       "would          local\n",
       "wouldn         local\n",
       "wow           remote\n",
       "wrong          local\n",
       "year          remote\n",
       "years          local\n",
       "yelp          remote\n",
       "yes           remote\n",
       "yet            local\n",
       "york          remote\n",
       "you            local\n",
       "your           local\n",
       "yourself       local\n",
       "yum            local\n",
       "yummy          local\n",
       "Length: 1000, dtype: object"
      ]
     },
     "execution_count": 321,
     "metadata": {},
     "output_type": "execute_result"
    }
   ],
   "source": [
    "sali_type"
   ]
  },
  {
   "cell_type": "markdown",
   "metadata": {},
   "source": [
    "## Sample from Date Frame"
   ]
  },
  {
   "cell_type": "code",
   "execution_count": 79,
   "metadata": {},
   "outputs": [],
   "source": [
    "yelp_df = pd.read_csv('all_reviews_cleaned.csv')"
   ]
  },
  {
   "cell_type": "code",
   "execution_count": 345,
   "metadata": {},
   "outputs": [
    {
     "name": "stdout",
     "output_type": "stream",
     "text": [
      "6509\n",
      "16270\n"
     ]
    }
   ],
   "source": [
    "yelp_df = yelp_df.rename(columns={'cool': 'cool_', 'label': 'label_', 'funny': 'funny_', 'useful': 'useful_'})\n",
    "\n",
    "state_min = min(yelp_df.query('business_state != \"NJ\"').groupby('business_state').agg('count').iloc[:, 0 ])\n",
    "\n",
    "print(state_min)\n",
    "\n",
    "sample_ny = yelp_df.query('business_state == \"NY\"').sample(n=state_min)\n",
    "sample_nv = yelp_df.query('business_state == \"NV\"').sample(n=state_min)\n",
    "sample_ca = yelp_df.query('business_state == \"CA\"').sample(n=state_min)\n",
    "sample_fl = yelp_df.query('business_state == \"FL\"').sample(n=state_min)\n",
    "sample_il = yelp_df.query('business_state == \"IL\"').sample(n=state_min)\n",
    "\n",
    "sample = pd.concat([sample_ny, sample_nv, sample_ca, sample_fl, sample_il]).reset_index(drop = True)\n",
    "\n",
    "sample_min = min(sample.groupby('label_').agg('count').iloc[:, 0])\n",
    "\n",
    "print(sample_min)\n",
    "\n",
    "local_sample = sample.query('label_ == \"local\"').sample(n=sample_min)\n",
    "remote_sample = sample.query('label_ == \"remote\"').sample(n=sample_min)\n",
    "\n",
    "yelp_df = pd.concat([local_sample, remote_sample]).reset_index(drop = True)"
   ]
  },
  {
   "cell_type": "markdown",
   "metadata": {},
   "source": [
    "## Clean Data frame"
   ]
  },
  {
   "cell_type": "code",
   "execution_count": 346,
   "metadata": {
    "scrolled": true
   },
   "outputs": [],
   "source": [
    "from sklearn.preprocessing import LabelEncoder\n",
    "le_state = LabelEncoder()\n",
    "yelp_df[['business_city']] = le_state.fit_transform(yelp_df['business_city'])\n",
    "le_state = LabelEncoder()\n",
    "yelp_df[['business_state']] = le_state.fit_transform(yelp_df['business_state'])\n",
    "le_zip = LabelEncoder()\n",
    "yelp_df[['business_zip']] = le_zip.fit_transform(yelp_df['business_zip'])\n",
    "le_loc = LabelEncoder()\n",
    "yelp_df[['reviewer_location']] = le_loc.fit_transform(yelp_df['reviewer_location'])\n",
    "le_rstate = LabelEncoder()\n",
    "yelp_df[['reviewer_state']] = le_rstate.fit_transform(yelp_df['reviewer_state'])"
   ]
  },
  {
   "cell_type": "markdown",
   "metadata": {},
   "source": [
    "## Train"
   ]
  },
  {
   "cell_type": "code",
   "execution_count": 348,
   "metadata": {},
   "outputs": [
    {
     "ename": "NameError",
     "evalue": "name 'add_basic_features' is not defined",
     "output_type": "error",
     "traceback": [
      "\u001b[0;31m---------------------------------------------------------------------------\u001b[0m",
      "\u001b[0;31mNameError\u001b[0m                                 Traceback (most recent call last)",
      "\u001b[0;32m<ipython-input-348-492579f6ef21>\u001b[0m in \u001b[0;36m<module>\u001b[0;34m\u001b[0m\n\u001b[1;32m     48\u001b[0m \u001b[0;34m\u001b[0m\u001b[0m\n\u001b[1;32m     49\u001b[0m \u001b[0;34m\u001b[0m\u001b[0m\n\u001b[0;32m---> 50\u001b[0;31m \u001b[0myelp_df\u001b[0m \u001b[0;34m=\u001b[0m \u001b[0madd_basic_features\u001b[0m\u001b[0;34m(\u001b[0m\u001b[0;34m)\u001b[0m\u001b[0;34m\u001b[0m\u001b[0m\n\u001b[0m\u001b[1;32m     51\u001b[0m yelp_df = yelp_df.rename(\n\u001b[1;32m     52\u001b[0m     columns={'cool': 'cool_', 'label': 'label_',\n",
      "\u001b[0;31mNameError\u001b[0m: name 'add_basic_features' is not defined"
     ]
    }
   ],
   "source": [
    "def saliance(words, local_words, remote_words, theta=.50):\n",
    "    \"\"\" saliance(data) takes a dataframe and returns a list of variables to keep\n",
    "    that meet a salience theta\n",
    "    \"\"\"\n",
    "    keep_words = []\n",
    "    for i in range(words.shape[1]):\n",
    "        normalizer = words[:, i].sum()\n",
    "        l_prob_sum = local_words[:, i].sum() / normalizer\n",
    "        r_prob_sum = remote_words[:, i].sum() / normalizer\n",
    "\n",
    "        min_ = min(r_prob_sum, l_prob_sum)\n",
    "        max_ = max(r_prob_sum, l_prob_sum)\n",
    "        if max_ != 0:\n",
    "                salience = (1 - (min_ / max_))\n",
    "        else:\n",
    "                salience = 0\n",
    "        if salience > theta:\n",
    "            keep_words.append(i)\n",
    "    return keep_words\n",
    "\n",
    "\n",
    "def sampe_data(data):\n",
    "    state_min = min(data.query('business_state != \"NJ\"').groupby(\n",
    "        'business_state').agg('count').iloc[:, 0])\n",
    "\n",
    "    sample_ny = data.query('business_state == \"NY\"').sample(n=state_min)\n",
    "    sample_nv = data.query('business_state == \"NV\"').sample(n=state_min)\n",
    "    sample_ca = data.query('business_state == \"CA\"').sample(n=state_min)\n",
    "    sample_fl = data.query('business_state == \"FL\"').sample(n=state_min)\n",
    "    sample_il = data.query('business_state == \"IL\"').sample(n=state_min)\n",
    "\n",
    "    sample = pd.concat(\n",
    "        [sample_ny, sample_nv, sample_ca,\n",
    "            sample_fl, sample_il]).reset_index(drop=True)\n",
    "\n",
    "    sample_min = min(sample.groupby('label_').agg('count').iloc[:, 0])\n",
    "\n",
    "    local_sample = sample.query('label_ == \"local\"').sample(n=sample_min)\n",
    "    remote_sample = sample.query('label_ == \"remote\"').sample(n=sample_min)\n",
    "\n",
    "    return pd.concat([local_sample, remote_sample]).reset_index(drop=True)\n",
    "\n",
    "\n",
    "def label_encoding(data, variables):\n",
    "    for variable in variables:\n",
    "        le = LabelEncoder()\n",
    "        data[[variable]] = le.fit_transform(yelp_df[variable])\n",
    "\n",
    "\n",
    "yelp_df = add_basic_features()\n",
    "yelp_df = yelp_df.rename(\n",
    "    columns={'cool': 'cool_', 'label': 'label_',\n",
    "             'funny': 'funny_', 'useful': 'useful_'})\n",
    "\n",
    "yelp_df = add_pos_features(yelp_df)\n",
    "label_encoding(yelp_df, [\n",
    "    'reviewer_location',\n",
    "    'business_zip', 'business_state', 'business_city'])\n",
    "\n",
    "X = yelp_df.drop([\n",
    "    'business_city', 'business_state',\n",
    "    'business_name', 'business_url', 'review_date',\n",
    "    'reviewer_id'], axis=1)\n",
    "\n",
    "y = yelp_df[['label_']].astype('category')\n",
    "\n",
    "X_train, X_test, y_train, y_test = train_test_split(\n",
    "    X, y, train_size=0.75, test_size=0.25)\n",
    "\n",
    "unigram_vect = CountVectorizer(\n",
    "    analyzer=\"word\",\n",
    "    tokenizer=None,\n",
    "    ngram_range=(2,2),\n",
    "    preprocessor=None,\n",
    "    stop_words=None,\n",
    "    max_features=5000)\n",
    "\n",
    "unigram_fit = unigram_vect.fit_transform(X_train['review_text'])\n",
    "unigram_transform = unigram_vect.transform(X_test['review_text'])\n",
    "\n",
    "local_words = unigram_vect.transform(\n",
    "    X_train.query('label_ == \"local\"')['review_text'])\n",
    "remote_words = unigram_vect.transform(\n",
    "    X_train.query('label_ == \"remote\"')['review_text'])\n",
    "keep_index = saliance(unigram_fit, local_words, remote_words, theta=.65)\n",
    "\n",
    "unigram_transform = csr_matrix(unigram_transform[:, keep_index])\n",
    "unigram_fit = csr_matrix(unigram_fit[:, keep_index])\n",
    "keep_words = np.array(unigram_vect.get_feature_names())[keep_index]\n",
    "\n",
    "unigram_train = pd.DataFrame(unigram_fit.A, columns=keep_words)\n",
    "\n",
    "unigram_test = pd.DataFrame(unigram_transform.A, columns=keep_words)\n",
    "\n",
    "print(unigram_train.shape[1], \" n-grams in model\")\n",
    "\n",
    "X_train = X_train.drop(['review_text', 'label_'], axis='columns')\n",
    "X_train = X_train.join(\n",
    "    unigram_train, on=None, how='left', lsuffix='',\n",
    "    rsuffix='', sort=False).fillna(0)\n",
    "\n",
    "X_test = X_test.drop(['review_text', 'label_'], axis='columns')\n",
    "X_test = X_test.join(\n",
    "    unigram_test, on=None, how='left', lsuffix='',\n",
    "    rsuffix='', sort=False).fillna(0)\n",
    "\n",
    "X_train = StandardScaler().fit_transform(X_train)\n",
    "X_test = StandardScaler().fit_transform(X_test)\n",
    "\n",
    "gnb = GaussianNB()\n",
    "gnb.fit(X_train, y_train.values.ravel())\n",
    "\n",
    "# logistic_lib = LogisticRegression(solver='liblinear')\n",
    "# logistic_lbf = LogisticRegression(solver='lbfgs')\n",
    "# logistic_newton = LogisticRegression(solver='newton-cg')\n",
    "\n",
    "# logistic_lib.fit(X_train, y_train.values.ravel())\n",
    "# logistic_lbf.fit(X_train, y_train.values.ravel())\n",
    "# logistic_newton.fit(X_train, y_train.values.ravel())\n",
    "\n",
    "logistic_saga = LogisticRegression(solver='saga')\n",
    "logistic_saga.fit(X_train, y_train.values.ravel())\n",
    "\n",
    "score_lr = logistic_saga.score(X_test, y_test)\n",
    "score_nb = gnb.score(X_test, y_test)\n",
    "print(\n",
    "    'Logistical regression:', score_lr,\n",
    "    'Naive bayes: ', score_nb)\n"
   ]
  },
  {
   "cell_type": "code",
   "execution_count": 14,
   "metadata": {
    "scrolled": false
   },
   "outputs": [
    {
     "name": "stdout",
     "output_type": "stream",
     "text": [
      "['blue' '15' 'try']\n"
     ]
    }
   ],
   "source": [
    "X = yelp_df.drop(['business_city', 'business_state', 'business_name','business_url',\n",
    "                  'review_date','reviewer_id'], axis = 1)\n",
    "\n",
    "# X = yelp_df[['business_star_rating', 'business_zip', 'cool_', \n",
    "#          'funny_', 'review_raiting', 'useful_', 'review_length', \n",
    "#          'week_of_year', 'city_mentioned', 'adv count', 'past prog', \n",
    "#          'simple past', 'porper name', 'prep count', 'review_text', 'label' ]]\n",
    "\n",
    "y = yelp_df[['label']].astype('category')\n",
    "\n",
    "X_train, X_test, y_train, y_test = sklearn.model_selection.train_test_split(\n",
    "    X, y, train_size=0.75, test_size=0.25)\n",
    "\n",
    "unigram_vect = sklearn.feature_extraction.text.CountVectorizer(\n",
    "    analyzer=\"word\",\n",
    "    tokenizer=None,\n",
    "    preprocessor=None,\n",
    "    stop_words=None,\n",
    "    max_features=1000)\n",
    "\n",
    "unigram_fit = unigram_vect.fit_transform(X_train['review_text'])\n",
    "unigram_transform = unigram_vect.transform(X_test['review_text'])\n",
    "\n",
    "\n",
    "# def saliance(words, local_words, remote_words, theta=.50):\n",
    "#     drop_words = []\n",
    "#     for i in range(words.shape[1]):\n",
    "#         normalizer = words[:, i].sum()\n",
    "#         l_prob_sum = local_words[:, i].sum() / normalizer\n",
    "#         r_prob_sum = remote_words[:, i].sum() / normalizer\n",
    "\n",
    "#         min_ = min(r_prob_sum, l_prob_sum)\n",
    "#         max_ = max(r_prob_sum, l_prob_sum)\n",
    "#         if max_ != 0:\n",
    "#                 salience = (1 - (min_/max_))\n",
    "#         else:\n",
    "#                 salience = 0\n",
    "#         if salience < theta:\n",
    "#             drop_words.append(i)\n",
    "#     return drop_words\n",
    "\n",
    "\n",
    "print(np.array(unigram_vect.get_feature_names())[[100,4,900]])\n",
    "\n",
    "\n",
    "# unigram_train = pd.DataFrame(\n",
    "#      unigram_fit.A, columns=unigram_vect.get_feature_names())\n",
    "\n",
    "# unigram_test = pd.DataFrame(\n",
    "#      unigram_transform.A, columns=unigram_vect.get_feature_names())\n",
    "\n",
    "# local_words = unigram_vect.transform(X_train.query('label == \"local\"')['review_text'])\n",
    "# remote_words = unigram_vect.transform(X_train.query('label == \"remote\"')['review_text'])\n",
    "# drop_index = saliance(unigram_fit, local_words, remote_words, theta=.65)\n",
    "# drop_words = unigram_train.columns[drop_index]\n",
    "\n",
    "# unigram_labels = y_train\n",
    "# drop_words = saliance(unigram_train, unigram_labels, theta=.65)\n",
    "\n",
    "# unigram_train.drop(drop_words, axis=1, inplace=True)\n",
    "# unigram_test.drop(drop_words, axis=1, inplace=True)\n",
    "\n",
    "# print(unigram_train.shape[1], \" n-grams in model\")\n",
    "\n",
    "# X_train = X_train.drop(['review_text', 'label'], axis='columns')\n",
    "# X_train = X_train.join(unigram_train,\n",
    "#     on=None, how='left', lsuffix='', rsuffix='', sort=False)\n",
    "\n",
    "# X_test = X_test.drop(['review_text', 'label'], axis='columns')\n",
    "# X_test = X_test.join(unigram_test,\n",
    "#     on=None, how='left', lsuffix='', rsuffix='', sort=False)\n",
    "\n",
    "# X_train = X_train.fillna(0)\n",
    "# X_test = X_test.fillna(0)"
   ]
  },
  {
   "cell_type": "code",
   "execution_count": 20,
   "metadata": {},
   "outputs": [
    {
     "data": {
      "text/plain": [
       "array([[0, 0, 0],\n",
       "       [0, 0, 0],\n",
       "       [0, 0, 0],\n",
       "       ...,\n",
       "       [1, 0, 1],\n",
       "       [0, 0, 0],\n",
       "       [0, 0, 0]], dtype=int64)"
      ]
     },
     "execution_count": 20,
     "metadata": {},
     "output_type": "execute_result"
    }
   ],
   "source": [
    "import scipy\n",
    "scipy.sparse.csr.csr_matrix(unigram_fit)[:,[1,2,3]].A"
   ]
  },
  {
   "cell_type": "code",
   "execution_count": null,
   "metadata": {},
   "outputs": [],
   "source": [
    "#LassoLarsIC"
   ]
  },
  {
   "cell_type": "code",
   "execution_count": null,
   "metadata": {},
   "outputs": [],
   "source": [
    "logistic = sklearn.linear_model.LogisticRegression()\n",
    "logistic_fit = logistic.fit(X_train, y_train)\n",
    "y_pred = logistic_fit.predict(X_test)\n",
    "cnf_matrix = confusion_matrix(y_test, y_pred)\n",
    "\n",
    "logistic.score(X_test, y_test)"
   ]
  },
  {
   "cell_type": "code",
   "execution_count": null,
   "metadata": {},
   "outputs": [],
   "source": [
    "dec = []\n",
    "num = len(y_pred)\n",
    "correct = np.array(y_test['label'] == y_pred)\n",
    "for i in range(1,num):\n",
    "    dec.append((i/len(correct), sum(correct[:i]/i)))"
   ]
  },
  {
   "cell_type": "code",
   "execution_count": null,
   "metadata": {
    "scrolled": true
   },
   "outputs": [],
   "source": [
    "plt.figure(figsize=(15,10))\n",
    "plt.plot(*zip(*dec[0:-1:100]), dashes=[3, 3])\n",
    "plt.title('Word Frequency by Frequency Rank', fontsize=25)\n",
    "plt.ylabel('Accuracy', fontsize=25)\n",
    "plt.xlabel('Decision', fontsize=25)"
   ]
  },
  {
   "cell_type": "code",
   "execution_count": null,
   "metadata": {
    "scrolled": true
   },
   "outputs": [],
   "source": [
    "gnb = GaussianNB()\n",
    "gnb.fit(X_train, y_train)\n",
    "gnb.score(X_test, y_test)"
   ]
  },
  {
   "cell_type": "code",
   "execution_count": null,
   "metadata": {
    "scrolled": true
   },
   "outputs": [],
   "source": [
    "svm = sklearn.svm.LinearSVC()\n",
    "svm.fit(X_train, y_train)\n",
    "svm.score(X_test, y_test)"
   ]
  },
  {
   "cell_type": "code",
   "execution_count": 9,
   "metadata": {},
   "outputs": [
    {
     "data": {
      "text/plain": [
       "<Figure size 432x288 with 0 Axes>"
      ]
     },
     "metadata": {},
     "output_type": "display_data"
    },
    {
     "data": {
      "image/png": "[encoded data removed]",
      "text/plain": [
       "<Figure size 1440x720 with 2 Axes>"
      ]
     },
     "metadata": {
      "needs_background": "light"
     },
     "output_type": "display_data"
    },
    {
     "data": {
      "text/plain": [
       "<Figure size 432x288 with 0 Axes>"
      ]
     },
     "metadata": {},
     "output_type": "display_data"
    },
    {
     "data": {
      "image/png": "[encoded data removed]",
      "text/plain": [
       "<Figure size 1440x720 with 2 Axes>"
      ]
     },
     "metadata": {
      "needs_background": "light"
     },
     "output_type": "display_data"
    }
   ],
   "source": [
    "import itertools\n",
    "import numpy as np\n",
    "import matplotlib.pyplot as plt\n",
    "\n",
    "from sklearn import svm, datasets\n",
    "from sklearn.model_selection import train_test_split\n",
    "from sklearn.metrics import confusion_matrix\n",
    "\n",
    "\n",
    "def plot_confusion_matrix(cm, classes,\n",
    "                          normalize=False,\n",
    "                          title='Confusion matrix',\n",
    "                          cmap=plt.cm.Blues):\n",
    "    \"\"\"\n",
    "    This function prints and plots the confusion matrix.\n",
    "    Normalization can be applied by setting `normalize=True`.\n",
    "    \"\"\"\n",
    "    if normalize:\n",
    "        cm = cm.astype('float') / cm.sum(axis=1)[:, np.newaxis]\n",
    "\n",
    "    plt.figure(figsize=(20,10))\n",
    "    plt.imshow(cm, interpolation='nearest', cmap=cmap)\n",
    "    plt.title(title, fontsize=25)\n",
    "    plt.grid(False)\n",
    "    plt.colorbar()\n",
    "    tick_marks = np.arange(len(classes))\n",
    "    plt.xticks(tick_marks, classes, fontsize=25)\n",
    "    plt.yticks(tick_marks, classes, fontsize=25)\n",
    "\n",
    "    fmt = '.2f' if normalize else 'd'\n",
    "    thresh = cm.max() / 2.\n",
    "    for i, j in itertools.product(range(cm.shape[0]), range(cm.shape[1])):\n",
    "        plt.text(j, i, format(cm[i, j], fmt),\n",
    "                 horizontalalignment=\"center\",\n",
    "                 color=\"white\" if cm[i, j] > thresh else \"black\")\n",
    "\n",
    "    plt.ylabel('True label')\n",
    "    plt.xlabel('Predicted label')\n",
    "    plt.tight_layout()\n",
    "\n",
    "\n",
    "# Compute confusion matrix\n",
    "cnf_matrix = confusion_matrix(y_test, y_pred)\n",
    "np.set_printoptions(precision=2)\n",
    "\n",
    "# Plot non-normalized confusion matrix\n",
    "class_names = np.array(['remote', 'local'])\n",
    "\n",
    "plt.figure()\n",
    "plot_confusion_matrix(cnf_matrix, classes=class_names,\n",
    "                      title='Confusion matrix (without normalization)')\n",
    "\n",
    "# Plot normalized confusion matrix\n",
    "plt.figure()\n",
    "plot_confusion_matrix(cnf_matrix, classes=class_names, normalize=True,\n",
    "                      title='Normalized confusion matrix')\n",
    "\n",
    "plt.show()"
   ]
  },
  {
   "cell_type": "code",
   "execution_count": 8,
   "metadata": {},
   "outputs": [
    {
     "name": "stdout",
     "output_type": "stream",
     "text": [
      "2  n-grams in model\n"
     ]
    },
    {
     "name": "stderr",
     "output_type": "stream",
     "text": [
      "/home/gavagai/.conda/envs/data_science/lib/python3.6/site-packages/sklearn/preprocessing/data.py:617: DataConversionWarning: Data with input dtype int64, float64 were all converted to float64 by StandardScaler.\n",
      "  return self.partial_fit(X, y)\n",
      "/home/gavagai/.conda/envs/data_science/lib/python3.6/site-packages/sklearn/base.py:462: DataConversionWarning: Data with input dtype int64, float64 were all converted to float64 by StandardScaler.\n",
      "  return self.fit(X, **fit_params).transform(X)\n",
      "/home/gavagai/.conda/envs/data_science/lib/python3.6/site-packages/sklearn/preprocessing/data.py:617: DataConversionWarning: Data with input dtype int64, float64 were all converted to float64 by StandardScaler.\n",
      "  return self.partial_fit(X, y)\n",
      "/home/gavagai/.conda/envs/data_science/lib/python3.6/site-packages/sklearn/base.py:462: DataConversionWarning: Data with input dtype int64, float64 were all converted to float64 by StandardScaler.\n",
      "  return self.fit(X, **fit_params).transform(X)\n"
     ]
    },
    {
     "name": "stdout",
     "output_type": "stream",
     "text": [
      "Logistical regression: 0.633808095952024 Naive bayes:  0.5727136431784108\n"
     ]
    },
    {
     "name": "stderr",
     "output_type": "stream",
     "text": [
      "/home/gavagai/.conda/envs/data_science/lib/python3.6/site-packages/sklearn/linear_model/sag.py:334: ConvergenceWarning: The max_iter was reached which means the coef_ did not converge\n",
      "  \"the coef_ did not converge\", ConvergenceWarning)\n"
     ]
    }
   ],
   "source": [
    "import features_basic\n",
    "from features_pos import pos_counter, get_pos_pickle\n",
    "\n",
    "import numpy as np\n",
    "import pandas as pd\n",
    "\n",
    "from scipy.sparse.csr import csr_matrix\n",
    "import sklearn\n",
    "from sklearn.preprocessing import StandardScaler\n",
    "from sklearn.model_selection import train_test_split\n",
    "from sklearn.preprocessing import LabelEncoder\n",
    "# from sklearn.feature_extraction.text import HashingVectorizer\n",
    "from sklearn.feature_extraction.text import CountVectorizer\n",
    "from sklearn.naive_bayes import GaussianNB\n",
    "from sklearn.linear_model import LogisticRegression\n",
    "# from sklearn.svm import LinearSVC\n",
    "\n",
    "\n",
    "def add_basic_features():\n",
    "    \"\"\"\n",
    "    add_basic_features(data) takes a datafram with\n",
    "    review labels as first column as an input and\n",
    "    tputs an extended dataframe with features based\n",
    "    on the Yelp reviews meta data.\n",
    "    \"\"\"\n",
    "    data = pd.read_csv('data/all_reviews_cleaned.csv')\n",
    "\n",
    "    # Add features\n",
    "    data = features_basic.review_len(data, 'review_text')\n",
    "\n",
    "    # week of year\n",
    "    data = features_basic.week_of_year(data, 'review_date')\n",
    "\n",
    "    # day of week\n",
    "    data = features_basic.day_of_week(data, 'review_date')\n",
    "\n",
    "    # city mentioned\n",
    "    data = features_basic.city_mentioned(\n",
    "        data, 'business_city', 'review_text')\n",
    "\n",
    "    return data\n",
    "\n",
    "\n",
    "def add_pos_features(data):\n",
    "    \"\"\"\n",
    "    add_pos_features(data) takes a dataframe\n",
    "    as an input and outputs an exteded dataframe\n",
    "    with part of speech features added using SPOT.\n",
    "    \"\"\"\n",
    "    reviews_tagged = get_pos_pickle(\n",
    "        'dump/scraped_reviews_tagged.p')\n",
    "\n",
    "    data[\"adv count\"] = [\n",
    "        pos_counter.count_pos(review, pos_counter.adverbs)\n",
    "        for review in reviews_tagged]\n",
    "\n",
    "    data[\"past prog\"] = [\n",
    "        pos_counter.count_pos(review, pos_counter.past_participle)\n",
    "        for review in reviews_tagged]\n",
    "\n",
    "    data[\"simple future\"] = [\n",
    "        pos_counter.count_pos(review, pos_counter.modal)\n",
    "        for review in reviews_tagged]\n",
    "\n",
    "    data[\"simple past\"] = [\n",
    "        pos_counter.count_pos(review, pos_counter.simple_past)\n",
    "        for review in reviews_tagged]\n",
    "\n",
    "    data[\"simple present\"] = [\n",
    "        pos_counter.count_pos(review, pos_counter.simple_present)\n",
    "        for review in reviews_tagged]\n",
    "\n",
    "    data['porper name'] = [\n",
    "        pos_counter.count_pos(review, pos_counter.pn)\n",
    "        for review in reviews_tagged]\n",
    "\n",
    "    data['prep count'] = [\n",
    "        pos_counter.count_pos(review, pos_counter.prep)\n",
    "        for review in reviews_tagged]\n",
    "\n",
    "    data['nn count'] = [\n",
    "        pos_counter.count_pos(review, pos_counter.nn)\n",
    "        for review in reviews_tagged]\n",
    "\n",
    "    data['adj count'] = [\n",
    "        pos_counter.count_pos(review, pos_counter.adj)\n",
    "        for review in reviews_tagged]\n",
    "\n",
    "    data['det count'] = [\n",
    "        pos_counter.count_pos(review, pos_counter.dt)\n",
    "        for review in reviews_tagged]\n",
    "\n",
    "    return data\n",
    "\n",
    "\n",
    "def saliance(words, local_words, remote_words, theta=.50):\n",
    "    \"\"\" saliance(data) takes a dataframe and returns a list of variables to keep\n",
    "    that meet a salience theta\n",
    "    \"\"\"\n",
    "    keep_words = []\n",
    "    for i in range(words.shape[1]):\n",
    "        normalizer = words[:, i].sum()\n",
    "        l_prob_sum = local_words[:, i].sum() / normalizer\n",
    "        r_prob_sum = remote_words[:, i].sum() / normalizer\n",
    "\n",
    "        min_ = min(r_prob_sum, l_prob_sum)\n",
    "        max_ = max(r_prob_sum, l_prob_sum)\n",
    "        if max_ != 0:\n",
    "                salience = (1 - (min_ / max_))\n",
    "        else:\n",
    "                salience = 0\n",
    "        if salience > theta:\n",
    "            keep_words.append(i)\n",
    "    return keep_words\n",
    "\n",
    "\n",
    "def sampe_data(data):\n",
    "    state_min = min(data.query('business_state != \"NJ\"').groupby(\n",
    "        'business_state').agg('count').iloc[:, 0])\n",
    "\n",
    "    sample_ny = data.query('business_state == \"NY\"').sample(n=state_min)\n",
    "    sample_nv = data.query('business_state == \"NV\"').sample(n=state_min)\n",
    "    sample_ca = data.query('business_state == \"CA\"').sample(n=state_min)\n",
    "    sample_fl = data.query('business_state == \"FL\"').sample(n=state_min)\n",
    "    sample_il = data.query('business_state == \"IL\"').sample(n=state_min)\n",
    "\n",
    "    sample = pd.concat(\n",
    "        [sample_ny, sample_nv, sample_ca,\n",
    "            sample_fl, sample_il]).reset_index(drop=True)\n",
    "\n",
    "    sample_min = min(sample.groupby('label_').agg('count').iloc[:, 0])\n",
    "\n",
    "    local_sample = sample.query('label_ == \"local\"').sample(n=sample_min)\n",
    "    remote_sample = sample.query('label_ == \"remote\"').sample(n=sample_min)\n",
    "\n",
    "    return pd.concat([local_sample, remote_sample]).reset_index(drop=True)\n",
    "\n",
    "\n",
    "def label_encoding(data, variables):\n",
    "    for variable in variables:\n",
    "        le = LabelEncoder()\n",
    "        data[[variable]] = le.fit_transform(yelp_df[variable])\n",
    "\n",
    "\n",
    "yelp_df = add_basic_features()\n",
    "yelp_df = yelp_df.rename(\n",
    "    columns={'cool': 'cool_', 'label': 'label_',\n",
    "             'funny': 'funny_', 'useful': 'useful_'})\n",
    "\n",
    "yelp_df = add_pos_features(yelp_df)\n",
    "label_encoding(yelp_df, [\n",
    "    'reviewer_location',\n",
    "    'business_zip', 'business_state', 'business_city'])\n",
    "\n",
    "X = yelp_df.drop([\n",
    "    'business_city', 'business_state',\n",
    "    'business_name', 'business_url', 'review_date',\n",
    "    'reviewer_id'], axis=1)\n",
    "\n",
    "y = yelp_df[['label_']].astype('category')\n",
    "\n",
    "X_train, X_test, y_train, y_test = train_test_split(\n",
    "    X, y, train_size=0.75, test_size=0.25)\n",
    "\n",
    "unigram_vect = CountVectorizer(\n",
    "    analyzer=\"word\",\n",
    "    tokenizer=None,\n",
    "    ngram_range=(1,2),\n",
    "    preprocessor=None,\n",
    "    stop_words=None,\n",
    "    max_features=1000)\n",
    "\n",
    "unigram_fit = unigram_vect.fit_transform(X_train['review_text'])\n",
    "unigram_transform = unigram_vect.transform(X_test['review_text'])\n",
    "\n",
    "local_words = unigram_vect.transform(\n",
    "    X_train.query('label_ == \"local\"')['review_text'])\n",
    "remote_words = unigram_vect.transform(\n",
    "    X_train.query('label_ == \"remote\"')['review_text'])\n",
    "keep_index = saliance(unigram_fit, local_words, remote_words, theta=.65)\n",
    "\n",
    "unigram_transform = csr_matrix(unigram_transform[:, keep_index])\n",
    "unigram_fit = csr_matrix(unigram_fit[:, keep_index])\n",
    "keep_words = np.array(unigram_vect.get_feature_names())[keep_index]\n",
    "\n",
    "unigram_train = pd.DataFrame(unigram_fit.A, columns=keep_words)\n",
    "\n",
    "unigram_test = pd.DataFrame(unigram_transform.A, columns=keep_words)\n",
    "\n",
    "print(unigram_train.shape[1], \" n-grams in model\")\n",
    "\n",
    "X_train = X_train.drop(['review_text', 'label_'], axis='columns')\n",
    "X_train = X_train.join(\n",
    "    unigram_train, on=None, how='left', lsuffix='',\n",
    "    rsuffix='', sort=False).fillna(0)\n",
    "\n",
    "X_test = X_test.drop(['review_text', 'label_'], axis='columns')\n",
    "X_test = X_test.join(\n",
    "    unigram_test, on=None, how='left', lsuffix='',\n",
    "    rsuffix='', sort=False).fillna(0)\n",
    "\n",
    "X_train = StandardScaler().fit_transform(X_train)\n",
    "X_test = StandardScaler().fit_transform(X_test)\n",
    "\n",
    "gnb = GaussianNB()\n",
    "gnb.fit(X_train, y_train.values.ravel())\n",
    "\n",
    "# logistic_lib = LogisticRegression(solver='liblinear')\n",
    "# logistic_lbf = LogisticRegression(solver='lbfgs')\n",
    "# logistic_newton = LogisticRegression(solver='newton-cg')\n",
    "\n",
    "# logistic_lib.fit(X_train, y_train.values.ravel())\n",
    "# logistic_lbf.fit(X_train, y_train.values.ravel())\n",
    "# logistic_newton.fit(X_train, y_train.values.ravel())\n",
    "\n",
    "logistic = sklearn.linear_model.LogisticRegression(solver='saga')\n",
    "logistic_fit = logistic.fit(X_train, y_train.values.ravel())\n",
    "y_pred = logistic_fit.predict(X_test)\n",
    "cnf_matrix = confusion_matrix(y_test, y_pred)\n",
    "\n",
    "logistic.score(X_test, y_test)\n",
    "\n",
    "score_lr = logistic.score(X_test, y_test)\n",
    "score_nb = gnb.score(X_test, y_test)\n",
    "print(\n",
    "    'Logistical regression:', score_lr,\n",
    "    'Naive bayes: ', score_nb)\n"
   ]
  },
  {
   "cell_type": "code",
   "execution_count": null,
   "metadata": {},
   "outputs": [],
   "source": []
  }
 ],
 "metadata": {
  "kernelspec": {
   "display_name": "Python 3",
   "language": "python",
   "name": "python3"
  },
  "language_info": {
   "codemirror_mode": {
    "name": "ipython",
    "version": 3
   },
   "file_extension": ".py",
   "mimetype": "text/x-python",
   "name": "python",
   "nbconvert_exporter": "python",
   "pygments_lexer": "ipython3",
   "version": "3.6.6"
  }
 },
 "nbformat": 4,
 "nbformat_minor": 2
}
